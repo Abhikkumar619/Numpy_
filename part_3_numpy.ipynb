{
 "cells": [
  {
   "cell_type": "code",
   "execution_count": 1,
   "id": "a9cbead5-b371-4ed8-9b34-8d04d1a40f22",
   "metadata": {},
   "outputs": [],
   "source": [
    "#short, searching & counting function."
   ]
  },
  {
   "cell_type": "code",
   "execution_count": 2,
   "id": "96e32f21-1f37-4464-b0df-aeece02fd984",
   "metadata": {},
   "outputs": [],
   "source": [
    "import numpy as np"
   ]
  },
  {
   "cell_type": "code",
   "execution_count": 5,
   "id": "0b5dff3e-8274-41fc-b582-a2381392a0f5",
   "metadata": {},
   "outputs": [],
   "source": [
    "arr=np.array([2,5,7,82,4,6,7,85,4])"
   ]
  },
  {
   "cell_type": "code",
   "execution_count": 6,
   "id": "820f356c-705c-4fcf-b0c1-42afeb4627a5",
   "metadata": {},
   "outputs": [
    {
     "data": {
      "text/plain": [
       "array([ 2,  5,  7, 82,  4,  6,  7, 85,  4])"
      ]
     },
     "execution_count": 6,
     "metadata": {},
     "output_type": "execute_result"
    }
   ],
   "source": [
    "arr"
   ]
  },
  {
   "cell_type": "code",
   "execution_count": 8,
   "id": "7d934867-2a12-49cb-929f-1c87ac4f299c",
   "metadata": {},
   "outputs": [
    {
     "data": {
      "text/plain": [
       "array([ 2,  4,  4,  5,  6,  7,  7, 82, 85])"
      ]
     },
     "execution_count": 8,
     "metadata": {},
     "output_type": "execute_result"
    }
   ],
   "source": [
    "np.sort(arr)"
   ]
  },
  {
   "cell_type": "code",
   "execution_count": 9,
   "id": "15a616fe-8b51-46ef-827f-d5c76a3583ac",
   "metadata": {},
   "outputs": [
    {
     "data": {
      "text/plain": [
       "7"
      ]
     },
     "execution_count": 9,
     "metadata": {},
     "output_type": "execute_result"
    }
   ],
   "source": [
    "np.searchsorted(arr, 23)"
   ]
  },
  {
   "cell_type": "code",
   "execution_count": 10,
   "id": "1e1e69b0-9224-4e8a-9ec4-7ec70e43b395",
   "metadata": {},
   "outputs": [],
   "source": [
    "arr1=np.array([0,231,123,43,534,0,0,0])"
   ]
  },
  {
   "cell_type": "code",
   "execution_count": 11,
   "id": "084ab321-61a4-4c5e-8f40-9e6628b20ad8",
   "metadata": {},
   "outputs": [
    {
     "data": {
      "text/plain": [
       "array([  0, 231, 123,  43, 534,   0,   0,   0])"
      ]
     },
     "execution_count": 11,
     "metadata": {},
     "output_type": "execute_result"
    }
   ],
   "source": [
    "arr1"
   ]
  },
  {
   "cell_type": "code",
   "execution_count": 12,
   "id": "2d498bf7-000c-464b-9563-57631a03d146",
   "metadata": {},
   "outputs": [
    {
     "data": {
      "text/plain": [
       "4"
      ]
     },
     "execution_count": 12,
     "metadata": {},
     "output_type": "execute_result"
    }
   ],
   "source": [
    "np.count_nonzero(arr1)"
   ]
  },
  {
   "cell_type": "code",
   "execution_count": 13,
   "id": "f91d023c-7183-4e62-9604-c9842b02d725",
   "metadata": {},
   "outputs": [
    {
     "data": {
      "text/plain": [
       "array([ 2,  5,  7, 82,  4,  6,  7, 85,  4])"
      ]
     },
     "execution_count": 13,
     "metadata": {},
     "output_type": "execute_result"
    }
   ],
   "source": [
    "arr"
   ]
  },
  {
   "cell_type": "code",
   "execution_count": 14,
   "id": "17f597e9-3102-4973-b21f-43f33b43ed60",
   "metadata": {},
   "outputs": [
    {
     "data": {
      "text/plain": [
       "(array([2, 3, 6, 7]),)"
      ]
     },
     "execution_count": 14,
     "metadata": {},
     "output_type": "execute_result"
    }
   ],
   "source": [
    "np.where(arr>6)"
   ]
  },
  {
   "cell_type": "code",
   "execution_count": 16,
   "id": "98d53d7d-9116-4f60-a1ce-a51c15c8fde5",
   "metadata": {},
   "outputs": [
    {
     "data": {
      "text/plain": [
       "array([ 7, 82,  7, 85])"
      ]
     },
     "execution_count": 16,
     "metadata": {},
     "output_type": "execute_result"
    }
   ],
   "source": [
    "np.extract(arr>6,arr)"
   ]
  },
  {
   "cell_type": "code",
   "execution_count": 17,
   "id": "302ca344-de03-499b-a91f-02623844c653",
   "metadata": {},
   "outputs": [
    {
     "data": {
      "text/plain": [
       "array([ 2,  5,  7, 82,  4,  6,  7, 85,  4])"
      ]
     },
     "execution_count": 17,
     "metadata": {},
     "output_type": "execute_result"
    }
   ],
   "source": [
    "arr"
   ]
  },
  {
   "cell_type": "code",
   "execution_count": 18,
   "id": "a5c46999-1610-4b0b-8566-a2e1b24a9fa2",
   "metadata": {},
   "outputs": [
    {
     "data": {
      "text/plain": [
       "array([ 144115188075855872,  360287970189639680,  504403158265495552,\n",
       "       5908722711110090752,  288230376151711744,  432345564227567616,\n",
       "        504403158265495552, 6124895493223874560,  288230376151711744])"
      ]
     },
     "execution_count": 18,
     "metadata": {},
     "output_type": "execute_result"
    }
   ],
   "source": [
    "arr.byteswap()"
   ]
  },
  {
   "cell_type": "code",
   "execution_count": 19,
   "id": "aa60309b-0ada-46fc-a278-7108074c5fd7",
   "metadata": {},
   "outputs": [],
   "source": [
    "a=np.copy(arr) #deep copy."
   ]
  },
  {
   "cell_type": "code",
   "execution_count": 20,
   "id": "9bcbb233-481e-4007-9d5d-1eeda73b7df7",
   "metadata": {},
   "outputs": [
    {
     "data": {
      "text/plain": [
       "array([ 2,  5,  7, 82,  4,  6,  7, 85,  4])"
      ]
     },
     "execution_count": 20,
     "metadata": {},
     "output_type": "execute_result"
    }
   ],
   "source": [
    "a\n"
   ]
  },
  {
   "cell_type": "code",
   "execution_count": 21,
   "id": "13d5afe6-16a9-4c32-a320-755d88556fa5",
   "metadata": {},
   "outputs": [],
   "source": [
    "b=arr.view()  # this is same like solo copy."
   ]
  },
  {
   "cell_type": "code",
   "execution_count": 22,
   "id": "48449903-43bb-4b9d-addb-464fcdae6955",
   "metadata": {},
   "outputs": [
    {
     "data": {
      "text/plain": [
       "array([ 2,  5,  7, 82,  4,  6,  7, 85,  4])"
      ]
     },
     "execution_count": 22,
     "metadata": {},
     "output_type": "execute_result"
    }
   ],
   "source": [
    "b"
   ]
  },
  {
   "cell_type": "code",
   "execution_count": 24,
   "id": "19538f18-f098-4289-965c-c35fed541638",
   "metadata": {},
   "outputs": [],
   "source": [
    "b[0]=43"
   ]
  },
  {
   "cell_type": "code",
   "execution_count": 25,
   "id": "a16e45dc-ad60-4f0e-a5fa-e5bbbc2072f8",
   "metadata": {},
   "outputs": [
    {
     "data": {
      "text/plain": [
       "array([43,  5,  7, 82,  4,  6,  7, 85,  4])"
      ]
     },
     "execution_count": 25,
     "metadata": {},
     "output_type": "execute_result"
    }
   ],
   "source": [
    "arr"
   ]
  },
  {
   "cell_type": "code",
   "execution_count": 26,
   "id": "38b9cbae-7451-4689-adfc-9827e9875c12",
   "metadata": {},
   "outputs": [
    {
     "data": {
      "text/plain": [
       "array([43,  5,  7, 82,  4,  6,  7, 85,  4])"
      ]
     },
     "execution_count": 26,
     "metadata": {},
     "output_type": "execute_result"
    }
   ],
   "source": [
    "b"
   ]
  },
  {
   "cell_type": "code",
   "execution_count": 27,
   "id": "eb40ab01-1ef4-4157-a5d2-95142b0bc2ea",
   "metadata": {},
   "outputs": [],
   "source": [
    "import numpy.matlib as nm"
   ]
  },
  {
   "cell_type": "code",
   "execution_count": 29,
   "id": "e620f54d-2b0e-45f6-9ec0-f5b40bf236a2",
   "metadata": {},
   "outputs": [
    {
     "data": {
      "text/plain": [
       "matrix([[0., 0., 0., 0., 0.]])"
      ]
     },
     "execution_count": 29,
     "metadata": {},
     "output_type": "execute_result"
    }
   ],
   "source": [
    "nm.zeros(5)"
   ]
  },
  {
   "cell_type": "code",
   "execution_count": 30,
   "id": "2c6ccf62-411b-4cd2-88fe-70d1416d5e39",
   "metadata": {},
   "outputs": [
    {
     "data": {
      "text/plain": [
       "matrix([[1., 1., 1., 1.],\n",
       "        [1., 1., 1., 1.],\n",
       "        [1., 1., 1., 1.]])"
      ]
     },
     "execution_count": 30,
     "metadata": {},
     "output_type": "execute_result"
    }
   ],
   "source": [
    "nm.ones((3,4))"
   ]
  },
  {
   "cell_type": "code",
   "execution_count": 33,
   "id": "67cb7ae2-d320-4126-ae1c-988b078e043d",
   "metadata": {},
   "outputs": [
    {
     "data": {
      "text/plain": [
       "matrix([[1., 0., 0.],\n",
       "        [0., 1., 0.],\n",
       "        [0., 0., 1.]])"
      ]
     },
     "execution_count": 33,
     "metadata": {},
     "output_type": "execute_result"
    }
   ],
   "source": [
    "nm.eye(3)"
   ]
  },
  {
   "cell_type": "code",
   "execution_count": 34,
   "id": "01eb339c-200e-448d-a426-dd44d7cd2e4a",
   "metadata": {},
   "outputs": [],
   "source": [
    "#numpy - linear algerba."
   ]
  },
  {
   "cell_type": "code",
   "execution_count": 35,
   "id": "7016daea-3365-4d22-ba4d-9d141b77894f",
   "metadata": {},
   "outputs": [],
   "source": [
    "arr1=np.random.randint([[3,4],[4,5]])"
   ]
  },
  {
   "cell_type": "code",
   "execution_count": 36,
   "id": "bb329cd4-dd7a-4214-9ef0-31bc10a46814",
   "metadata": {},
   "outputs": [
    {
     "data": {
      "text/plain": [
       "array([[2, 2],\n",
       "       [2, 2]])"
      ]
     },
     "execution_count": 36,
     "metadata": {},
     "output_type": "execute_result"
    }
   ],
   "source": [
    "arr1"
   ]
  },
  {
   "cell_type": "code",
   "execution_count": 37,
   "id": "db74cc1b-d6fc-49cb-8e8e-58192590bc1c",
   "metadata": {},
   "outputs": [],
   "source": [
    "arr2=np.random.randint([[3,4],[4,5]])"
   ]
  },
  {
   "cell_type": "code",
   "execution_count": 38,
   "id": "c50e277c-d5be-43bd-bbec-341e93e7f066",
   "metadata": {},
   "outputs": [
    {
     "data": {
      "text/plain": [
       "array([[0, 2],\n",
       "       [0, 1]])"
      ]
     },
     "execution_count": 38,
     "metadata": {},
     "output_type": "execute_result"
    }
   ],
   "source": [
    "arr2"
   ]
  },
  {
   "cell_type": "code",
   "execution_count": 39,
   "id": "33a23251-3e1c-451d-92f6-b4921e7a4f92",
   "metadata": {},
   "outputs": [
    {
     "data": {
      "text/plain": [
       "array([[0, 6],\n",
       "       [0, 6]])"
      ]
     },
     "execution_count": 39,
     "metadata": {},
     "output_type": "execute_result"
    }
   ],
   "source": [
    "arr1.dot(arr2)"
   ]
  },
  {
   "cell_type": "code",
   "execution_count": 40,
   "id": "277b2a05-0476-440c-92a8-e1801f722c1a",
   "metadata": {},
   "outputs": [
    {
     "data": {
      "text/plain": [
       "array([[0, 6],\n",
       "       [0, 6]])"
      ]
     },
     "execution_count": 40,
     "metadata": {},
     "output_type": "execute_result"
    }
   ],
   "source": [
    "arr1@arr2"
   ]
  },
  {
   "cell_type": "code",
   "execution_count": null,
   "id": "99ab6011-4a2f-4de8-9b1c-b4afe591c9ea",
   "metadata": {},
   "outputs": [],
   "source": []
  }
 ],
 "metadata": {
  "kernelspec": {
   "display_name": "Python 3 (ipykernel)",
   "language": "python",
   "name": "python3"
  },
  "language_info": {
   "codemirror_mode": {
    "name": "ipython",
    "version": 3
   },
   "file_extension": ".py",
   "mimetype": "text/x-python",
   "name": "python",
   "nbconvert_exporter": "python",
   "pygments_lexer": "ipython3",
   "version": "3.10.8"
  }
 },
 "nbformat": 4,
 "nbformat_minor": 5
}
