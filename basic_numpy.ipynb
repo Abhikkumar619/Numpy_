{
 "cells": [
  {
   "cell_type": "code",
   "execution_count": 10,
   "id": "bd8885cb-c1da-43f4-8f3a-30f6e84856e2",
   "metadata": {},
   "outputs": [],
   "source": [
    "import numpy as np"
   ]
  },
  {
   "cell_type": "code",
   "execution_count": 2,
   "id": "4458b3cd-a098-4d87-b710-4166bf855a75",
   "metadata": {},
   "outputs": [],
   "source": [
    "l=[1,2,3,4]"
   ]
  },
  {
   "cell_type": "code",
   "execution_count": 4,
   "id": "277aac7c-b1e2-4bc6-83b4-f6532567a7d3",
   "metadata": {},
   "outputs": [],
   "source": [
    "ar=np.array(l)"
   ]
  },
  {
   "cell_type": "code",
   "execution_count": 5,
   "id": "7bc36166-1481-47fd-97f5-099d15e3a038",
   "metadata": {},
   "outputs": [
    {
     "data": {
      "text/plain": [
       "array([1, 2, 3, 4])"
      ]
     },
     "execution_count": 5,
     "metadata": {},
     "output_type": "execute_result"
    }
   ],
   "source": [
    "ar"
   ]
  },
  {
   "cell_type": "code",
   "execution_count": 6,
   "id": "9a4030e6-24f5-4d45-9ad6-3824cc0251ab",
   "metadata": {},
   "outputs": [
    {
     "data": {
      "text/plain": [
       "numpy.ndarray"
      ]
     },
     "execution_count": 6,
     "metadata": {},
     "output_type": "execute_result"
    }
   ],
   "source": [
    "type(ar)"
   ]
  },
  {
   "cell_type": "code",
   "execution_count": 7,
   "id": "3824fe6d-db9f-4b03-b6c0-915e68d58f9e",
   "metadata": {},
   "outputs": [
    {
     "data": {
      "text/plain": [
       "array([[1, 2],\n",
       "       [3, 4]])"
      ]
     },
     "execution_count": 7,
     "metadata": {},
     "output_type": "execute_result"
    }
   ],
   "source": [
    "np.array([[1,2],[3,4]])"
   ]
  },
  {
   "cell_type": "code",
   "execution_count": 8,
   "id": "1ddede3d-7625-49ea-aa96-107a0bd02647",
   "metadata": {},
   "outputs": [
    {
     "data": {
      "text/plain": [
       "array([1, 2, 3, 4])"
      ]
     },
     "execution_count": 8,
     "metadata": {},
     "output_type": "execute_result"
    }
   ],
   "source": [
    "np.asarray(l)"
   ]
  },
  {
   "cell_type": "code",
   "execution_count": 9,
   "id": "3d082c0e-f6ff-4425-b367-eb1cf00d9585",
   "metadata": {},
   "outputs": [
    {
     "data": {
      "text/plain": [
       "array([1, 2, 3, 4])"
      ]
     },
     "execution_count": 9,
     "metadata": {},
     "output_type": "execute_result"
    }
   ],
   "source": [
    "np.asanyarray(l)"
   ]
  },
  {
   "cell_type": "code",
   "execution_count": 10,
   "id": "e1a43923-f1c6-42a8-a145-508ca4ba3162",
   "metadata": {},
   "outputs": [],
   "source": [
    "b=np.matrix(l)  #by default matrix is two dimensional array."
   ]
  },
  {
   "cell_type": "code",
   "execution_count": 11,
   "id": "a020854b-8da7-4d6e-9b4a-0248f106a90f",
   "metadata": {},
   "outputs": [
    {
     "data": {
      "text/plain": [
       "matrix([[1, 2, 3, 4]])"
      ]
     },
     "execution_count": 11,
     "metadata": {},
     "output_type": "execute_result"
    }
   ],
   "source": [
    "b"
   ]
  },
  {
   "cell_type": "code",
   "execution_count": 12,
   "id": "dc76a4be-3ac2-400e-9be2-d362f8b6970e",
   "metadata": {},
   "outputs": [
    {
     "data": {
      "text/plain": [
       "array([[1, 2, 3, 4]])"
      ]
     },
     "execution_count": 12,
     "metadata": {},
     "output_type": "execute_result"
    }
   ],
   "source": [
    "np.array(b)\n"
   ]
  },
  {
   "cell_type": "code",
   "execution_count": 13,
   "id": "47724b6e-5e42-4a94-9362-11fa50cd631e",
   "metadata": {},
   "outputs": [],
   "source": [
    "a=np.array(l)"
   ]
  },
  {
   "cell_type": "code",
   "execution_count": 14,
   "id": "4f4e55e1-7b8e-4f92-8a3f-436384d5c878",
   "metadata": {},
   "outputs": [
    {
     "data": {
      "text/plain": [
       "array([1, 2, 3, 4])"
      ]
     },
     "execution_count": 14,
     "metadata": {},
     "output_type": "execute_result"
    }
   ],
   "source": [
    "a"
   ]
  },
  {
   "cell_type": "code",
   "execution_count": 15,
   "id": "56e56425-2b87-4168-a5d4-582bc4744792",
   "metadata": {},
   "outputs": [],
   "source": [
    "c=a  #solo copy if we make change in c than also get change in a."
   ]
  },
  {
   "cell_type": "code",
   "execution_count": 16,
   "id": "97bb0859-7adf-4f4c-9e6f-815e66e7c06b",
   "metadata": {},
   "outputs": [
    {
     "data": {
      "text/plain": [
       "array([1, 2, 3, 4])"
      ]
     },
     "execution_count": 16,
     "metadata": {},
     "output_type": "execute_result"
    }
   ],
   "source": [
    "c"
   ]
  },
  {
   "cell_type": "code",
   "execution_count": 17,
   "id": "e722c525-bf6b-4fa3-baac-a2b3d8b7466c",
   "metadata": {},
   "outputs": [],
   "source": [
    "c[0]=100"
   ]
  },
  {
   "cell_type": "code",
   "execution_count": 18,
   "id": "bb1f486a-db66-4180-99e6-cd2244a25b5e",
   "metadata": {},
   "outputs": [
    {
     "data": {
      "text/plain": [
       "array([100,   2,   3,   4])"
      ]
     },
     "execution_count": 18,
     "metadata": {},
     "output_type": "execute_result"
    }
   ],
   "source": [
    "c\n"
   ]
  },
  {
   "cell_type": "code",
   "execution_count": 19,
   "id": "f818c27e-16e7-4d1e-83f1-8dec619e0fd4",
   "metadata": {},
   "outputs": [
    {
     "data": {
      "text/plain": [
       "array([100,   2,   3,   4])"
      ]
     },
     "execution_count": 19,
     "metadata": {},
     "output_type": "execute_result"
    }
   ],
   "source": [
    "a"
   ]
  },
  {
   "cell_type": "code",
   "execution_count": 20,
   "id": "82aa52ef-fd18-4a6a-b12e-b0cf385a369a",
   "metadata": {},
   "outputs": [],
   "source": [
    "d=np.copy(a)  # to avoid the solo copy we are using copy() function.\n",
    "               # D store data in new location.(deep copy)"
   ]
  },
  {
   "cell_type": "code",
   "execution_count": 21,
   "id": "b3120f1c-4910-4fe5-8f3f-1004de082b5a",
   "metadata": {},
   "outputs": [
    {
     "data": {
      "text/plain": [
       "array([100,   2,   3,   4])"
      ]
     },
     "execution_count": 21,
     "metadata": {},
     "output_type": "execute_result"
    }
   ],
   "source": [
    "d"
   ]
  },
  {
   "cell_type": "code",
   "execution_count": 22,
   "id": "b16ac13e-1936-4975-bfed-b068fed05797",
   "metadata": {},
   "outputs": [
    {
     "data": {
      "text/plain": [
       "array([100,   2,   3,   4])"
      ]
     },
     "execution_count": 22,
     "metadata": {},
     "output_type": "execute_result"
    }
   ],
   "source": [
    "a"
   ]
  },
  {
   "cell_type": "code",
   "execution_count": 23,
   "id": "31f79573-1df1-4fe9-9730-1e112289fd3d",
   "metadata": {},
   "outputs": [],
   "source": [
    "a[1]=400"
   ]
  },
  {
   "cell_type": "code",
   "execution_count": 24,
   "id": "31f886aa-f669-469d-a932-812ff323b1bd",
   "metadata": {},
   "outputs": [
    {
     "data": {
      "text/plain": [
       "array([100, 400,   3,   4])"
      ]
     },
     "execution_count": 24,
     "metadata": {},
     "output_type": "execute_result"
    }
   ],
   "source": [
    "a"
   ]
  },
  {
   "cell_type": "code",
   "execution_count": 25,
   "id": "8a6f7efc-0de4-4857-92ee-faababd30dd8",
   "metadata": {},
   "outputs": [
    {
     "data": {
      "text/plain": [
       "array([100,   2,   3,   4])"
      ]
     },
     "execution_count": 25,
     "metadata": {},
     "output_type": "execute_result"
    }
   ],
   "source": [
    "d"
   ]
  },
  {
   "cell_type": "code",
   "execution_count": 26,
   "id": "0533d5fe-5879-4b8d-a822-ea2c198480fc",
   "metadata": {},
   "outputs": [
    {
     "data": {
      "text/plain": [
       "array([[ True, False, False],\n",
       "       [False,  True, False],\n",
       "       [False, False,  True]])"
      ]
     },
     "execution_count": 26,
     "metadata": {},
     "output_type": "execute_result"
    }
   ],
   "source": [
    "np.fromfunction(lambda i,j : i==j, (3,3))"
   ]
  },
  {
   "cell_type": "code",
   "execution_count": 27,
   "id": "966a92ea-c44e-4e26-b737-610af2bc3bf4",
   "metadata": {},
   "outputs": [
    {
     "data": {
      "text/plain": [
       "array([[0., 0., 0.],\n",
       "       [0., 1., 2.],\n",
       "       [0., 2., 4.]])"
      ]
     },
     "execution_count": 27,
     "metadata": {},
     "output_type": "execute_result"
    }
   ],
   "source": [
    "np.fromfunction(lambda i,j : i*j, (3,3))"
   ]
  },
  {
   "cell_type": "code",
   "execution_count": 35,
   "id": "ffd0cde3-61ee-4309-98a0-dc6cb5960571",
   "metadata": {},
   "outputs": [],
   "source": [
    "iterable=(i*i for i in range(5))"
   ]
  },
  {
   "cell_type": "code",
   "execution_count": 36,
   "id": "97692925-2f28-4e87-8833-e6bcb1cd8c4e",
   "metadata": {},
   "outputs": [
    {
     "data": {
      "text/plain": [
       "array([ 0.,  1.,  4.,  9., 16.])"
      ]
     },
     "execution_count": 36,
     "metadata": {},
     "output_type": "execute_result"
    }
   ],
   "source": [
    "np.fromiter(iterable,float)"
   ]
  },
  {
   "cell_type": "code",
   "execution_count": 38,
   "id": "d69b1bdf-2558-4fa9-82a6-f3f2bc55b829",
   "metadata": {},
   "outputs": [
    {
     "data": {
      "text/plain": [
       "array([ 12., 123.])"
      ]
     },
     "execution_count": 38,
     "metadata": {},
     "output_type": "execute_result"
    }
   ],
   "source": [
    "np.fromstring('12 123',sep=' ')  #seprate based on space."
   ]
  },
  {
   "cell_type": "code",
   "execution_count": 3,
   "id": "d29bdd5e-116e-4720-8097-5b6710cb9b10",
   "metadata": {},
   "outputs": [
    {
     "data": {
      "text/plain": [
       "array([ 12., 123.])"
      ]
     },
     "execution_count": 3,
     "metadata": {},
     "output_type": "execute_result"
    }
   ],
   "source": [
    "np.fromstring('12,123',sep=',')  #seprate based on comma."
   ]
  },
  {
   "cell_type": "code",
   "execution_count": 4,
   "id": "fb6d5fcb-c4d3-41af-9346-82b3ec6b4419",
   "metadata": {},
   "outputs": [],
   "source": [
    "# data-type in numpy"
   ]
  },
  {
   "cell_type": "code",
   "execution_count": 5,
   "id": "853ca4e5-1f61-4653-982f-000f453d3944",
   "metadata": {},
   "outputs": [],
   "source": [
    "l=[1,3,4,5]"
   ]
  },
  {
   "cell_type": "code",
   "execution_count": 6,
   "id": "49677df1-2f3f-4e00-ab83-4439eb562d6b",
   "metadata": {},
   "outputs": [],
   "source": [
    "arr=np.array(l)"
   ]
  },
  {
   "cell_type": "code",
   "execution_count": 7,
   "id": "c8f6498f-840c-47cc-965e-bf9b06ef1cb4",
   "metadata": {},
   "outputs": [
    {
     "data": {
      "text/plain": [
       "array([1, 3, 4, 5])"
      ]
     },
     "execution_count": 7,
     "metadata": {},
     "output_type": "execute_result"
    }
   ],
   "source": [
    "arr"
   ]
  },
  {
   "cell_type": "code",
   "execution_count": 9,
   "id": "d4de69ce-861a-4b43-bccc-b5d9afba9639",
   "metadata": {},
   "outputs": [
    {
     "data": {
      "text/plain": [
       "1"
      ]
     },
     "execution_count": 9,
     "metadata": {},
     "output_type": "execute_result"
    }
   ],
   "source": [
    "arr.ndim   # show the dimensions of array.\n"
   ]
  },
  {
   "cell_type": "code",
   "execution_count": 10,
   "id": "90e53d4d-dc95-40f8-949a-6492b5ba7eda",
   "metadata": {},
   "outputs": [],
   "source": [
    "ar2=np.array([[1,2,3],[4,5,6]])"
   ]
  },
  {
   "cell_type": "code",
   "execution_count": 11,
   "id": "ce79f447-4201-417b-a913-84ee0f9fd9fe",
   "metadata": {},
   "outputs": [
    {
     "data": {
      "text/plain": [
       "2"
      ]
     },
     "execution_count": 11,
     "metadata": {},
     "output_type": "execute_result"
    }
   ],
   "source": [
    "ar2.ndim"
   ]
  },
  {
   "cell_type": "code",
   "execution_count": 12,
   "id": "0464c457-5aeb-48a7-a44f-1af2a244161b",
   "metadata": {},
   "outputs": [
    {
     "data": {
      "text/plain": [
       "4"
      ]
     },
     "execution_count": 12,
     "metadata": {},
     "output_type": "execute_result"
    }
   ],
   "source": [
    "arr.size"
   ]
  },
  {
   "cell_type": "code",
   "execution_count": 14,
   "id": "6350c6f7-9f92-47b7-ab60-500b53959ff8",
   "metadata": {},
   "outputs": [
    {
     "data": {
      "text/plain": [
       "6"
      ]
     },
     "execution_count": 14,
     "metadata": {},
     "output_type": "execute_result"
    }
   ],
   "source": [
    "ar2.size"
   ]
  },
  {
   "cell_type": "code",
   "execution_count": 18,
   "id": "d496c4b0-08c2-48dd-85ea-15a2491e2f9d",
   "metadata": {},
   "outputs": [
    {
     "data": {
      "text/plain": [
       "array([1, 3, 4, 5])"
      ]
     },
     "execution_count": 18,
     "metadata": {},
     "output_type": "execute_result"
    }
   ],
   "source": [
    "arr"
   ]
  },
  {
   "cell_type": "code",
   "execution_count": 16,
   "id": "deda9c4c-3673-40f5-8404-ae8e39960577",
   "metadata": {},
   "outputs": [
    {
     "data": {
      "text/plain": [
       "(4,)"
      ]
     },
     "execution_count": 16,
     "metadata": {},
     "output_type": "execute_result"
    }
   ],
   "source": [
    "arr.shape # 4 columns"
   ]
  },
  {
   "cell_type": "code",
   "execution_count": 19,
   "id": "190f1034-b74e-40c4-bcc0-17c6f105256e",
   "metadata": {},
   "outputs": [
    {
     "data": {
      "text/plain": [
       "array([[1, 2, 3],\n",
       "       [4, 5, 6]])"
      ]
     },
     "execution_count": 19,
     "metadata": {},
     "output_type": "execute_result"
    }
   ],
   "source": [
    "ar2"
   ]
  },
  {
   "cell_type": "code",
   "execution_count": null,
   "id": "8ab0d92a-b055-49bc-abeb-e4f8e3ee83a4",
   "metadata": {},
   "outputs": [],
   "source": []
  },
  {
   "cell_type": "code",
   "execution_count": 17,
   "id": "ea0c206a-fe5b-404e-9b18-c91a4770e91b",
   "metadata": {},
   "outputs": [
    {
     "data": {
      "text/plain": [
       "(2, 3)"
      ]
     },
     "execution_count": 17,
     "metadata": {},
     "output_type": "execute_result"
    }
   ],
   "source": [
    "ar2.shape"
   ]
  },
  {
   "cell_type": "code",
   "execution_count": 21,
   "id": "92278dd1-d435-44d4-b902-443e94d15069",
   "metadata": {},
   "outputs": [
    {
     "data": {
      "text/plain": [
       "dtype('int64')"
      ]
     },
     "execution_count": 21,
     "metadata": {},
     "output_type": "execute_result"
    }
   ],
   "source": [
    "arr.dtype"
   ]
  },
  {
   "cell_type": "code",
   "execution_count": 22,
   "id": "b8ad79be-bd44-47b9-b855-14dfa3e32a43",
   "metadata": {},
   "outputs": [
    {
     "data": {
      "text/plain": [
       "dtype('int64')"
      ]
     },
     "execution_count": 22,
     "metadata": {},
     "output_type": "execute_result"
    }
   ],
   "source": [
    "ar2.dtype"
   ]
  },
  {
   "cell_type": "code",
   "execution_count": 33,
   "id": "be8fa2b8-083a-4d6b-8572-5279a6c95468",
   "metadata": {},
   "outputs": [],
   "source": [
    "arr2=np.array([[1.1,2,3],[2,3,4]])"
   ]
  },
  {
   "cell_type": "code",
   "execution_count": 34,
   "id": "cd0b77df-2e24-4f91-9280-2e144509f5bc",
   "metadata": {},
   "outputs": [
    {
     "data": {
      "text/plain": [
       "array([[1.1, 2. , 3. ],\n",
       "       [2. , 3. , 4. ]])"
      ]
     },
     "execution_count": 34,
     "metadata": {},
     "output_type": "execute_result"
    }
   ],
   "source": [
    "arr2"
   ]
  },
  {
   "cell_type": "code",
   "execution_count": 36,
   "id": "2e35daa7-7175-4e25-a9f3-17d5ce48dc72",
   "metadata": {},
   "outputs": [
    {
     "data": {
      "text/plain": [
       "dtype('float64')"
      ]
     },
     "execution_count": 36,
     "metadata": {},
     "output_type": "execute_result"
    }
   ],
   "source": [
    "arr2.dtype"
   ]
  },
  {
   "cell_type": "code",
   "execution_count": 37,
   "id": "5f34aa82-4924-4168-b552-7d7fa9f16b19",
   "metadata": {},
   "outputs": [
    {
     "ename": "TypeError",
     "evalue": "'float' object cannot be interpreted as an integer",
     "output_type": "error",
     "traceback": [
      "\u001b[0;31m---------------------------------------------------------------------------\u001b[0m",
      "\u001b[0;31mTypeError\u001b[0m                                 Traceback (most recent call last)",
      "Cell \u001b[0;32mIn[37], line 1\u001b[0m\n\u001b[0;32m----> 1\u001b[0m \u001b[38;5;28mlist\u001b[39m(\u001b[38;5;28;43mrange\u001b[39;49m\u001b[43m(\u001b[49m\u001b[38;5;241;43m1.2\u001b[39;49m\u001b[43m,\u001b[49m\u001b[38;5;241;43m5\u001b[39;49m\u001b[43m)\u001b[49m)\n",
      "\u001b[0;31mTypeError\u001b[0m: 'float' object cannot be interpreted as an integer"
     ]
    }
   ],
   "source": [
    "list(range(1.2,5))"
   ]
  },
  {
   "cell_type": "code",
   "execution_count": 44,
   "id": "d43625e6-423a-4666-9dc3-f10a00decc27",
   "metadata": {},
   "outputs": [
    {
     "data": {
      "text/plain": [
       "array([1.2, 1.7, 2.2, 2.7, 3.2, 3.7, 4.2, 4.7])"
      ]
     },
     "execution_count": 44,
     "metadata": {},
     "output_type": "execute_result"
    }
   ],
   "source": [
    "np.arange(1.2,5.2, 0.5)"
   ]
  },
  {
   "cell_type": "code",
   "execution_count": 45,
   "id": "a5baad74-daf7-4b21-9e4f-8e2f06f982bb",
   "metadata": {},
   "outputs": [
    {
     "data": {
      "text/plain": [
       "[1.2, 1.7, 2.2, 2.7, 3.2, 3.7, 4.2, 4.7]"
      ]
     },
     "execution_count": 45,
     "metadata": {},
     "output_type": "execute_result"
    }
   ],
   "source": [
    "list(np.arange(1.2,5.2, 0.5))"
   ]
  },
  {
   "cell_type": "code",
   "execution_count": 46,
   "id": "cf5f1f2b-eb97-4be2-b3fd-a02367ee28d8",
   "metadata": {},
   "outputs": [
    {
     "data": {
      "text/plain": [
       "array([1.        , 1.33333333, 1.66666667, 2.        , 2.33333333,\n",
       "       2.66666667, 3.        , 3.33333333, 3.66666667, 4.        ])"
      ]
     },
     "execution_count": 46,
     "metadata": {},
     "output_type": "execute_result"
    }
   ],
   "source": [
    "np.linspace(1,4,10)"
   ]
  },
  {
   "cell_type": "code",
   "execution_count": 47,
   "id": "fb64bcfe-6cf3-453e-bf85-9a61ece84a13",
   "metadata": {},
   "outputs": [
    {
     "data": {
      "text/plain": [
       "array([0., 0., 0., 0., 0.])"
      ]
     },
     "execution_count": 47,
     "metadata": {},
     "output_type": "execute_result"
    }
   ],
   "source": [
    "np.zeros(5)"
   ]
  },
  {
   "cell_type": "code",
   "execution_count": 49,
   "id": "86300de4-aea1-421c-a24d-a0772b86b1fd",
   "metadata": {},
   "outputs": [
    {
     "data": {
      "text/plain": [
       "array([[0., 0., 0.],\n",
       "       [0., 0., 0.]])"
      ]
     },
     "execution_count": 49,
     "metadata": {},
     "output_type": "execute_result"
    }
   ],
   "source": [
    "np.zeros((2,3))"
   ]
  },
  {
   "cell_type": "code",
   "execution_count": 50,
   "id": "ca15b0c5-02c3-4df0-baec-82d91b3830e6",
   "metadata": {},
   "outputs": [
    {
     "data": {
      "text/plain": [
       "array([[[0., 0.],\n",
       "        [0., 0.],\n",
       "        [0., 0.]],\n",
       "\n",
       "       [[0., 0.],\n",
       "        [0., 0.],\n",
       "        [0., 0.]]])"
      ]
     },
     "execution_count": 50,
     "metadata": {},
     "output_type": "execute_result"
    }
   ],
   "source": [
    "np.zeros((2,3,2))"
   ]
  },
  {
   "cell_type": "code",
   "execution_count": 3,
   "id": "d6b0f188-d433-4539-9714-6a43b486ec21",
   "metadata": {},
   "outputs": [],
   "source": [
    "arr2=np.zeros((3,2,3,2))"
   ]
  },
  {
   "cell_type": "code",
   "execution_count": 4,
   "id": "06e2b0b8-77b2-4cd3-b02e-b0cf3efc9cbd",
   "metadata": {},
   "outputs": [
    {
     "data": {
      "text/plain": [
       "array([[[[0., 0.],\n",
       "         [0., 0.],\n",
       "         [0., 0.]],\n",
       "\n",
       "        [[0., 0.],\n",
       "         [0., 0.],\n",
       "         [0., 0.]]],\n",
       "\n",
       "\n",
       "       [[[0., 0.],\n",
       "         [0., 0.],\n",
       "         [0., 0.]],\n",
       "\n",
       "        [[0., 0.],\n",
       "         [0., 0.],\n",
       "         [0., 0.]]],\n",
       "\n",
       "\n",
       "       [[[0., 0.],\n",
       "         [0., 0.],\n",
       "         [0., 0.]],\n",
       "\n",
       "        [[0., 0.],\n",
       "         [0., 0.],\n",
       "         [0., 0.]]]])"
      ]
     },
     "execution_count": 4,
     "metadata": {},
     "output_type": "execute_result"
    }
   ],
   "source": [
    "arr2"
   ]
  },
  {
   "cell_type": "code",
   "execution_count": 5,
   "id": "bbc4df07-d5e3-4486-85be-233901a1282f",
   "metadata": {},
   "outputs": [
    {
     "data": {
      "text/plain": [
       "4"
      ]
     },
     "execution_count": 5,
     "metadata": {},
     "output_type": "execute_result"
    }
   ],
   "source": [
    "arr2.ndim"
   ]
  },
  {
   "cell_type": "code",
   "execution_count": 6,
   "id": "035e5e9d-d679-447f-8389-184b3e677636",
   "metadata": {},
   "outputs": [
    {
     "data": {
      "text/plain": [
       "array([1., 1., 1., 1.])"
      ]
     },
     "execution_count": 6,
     "metadata": {},
     "output_type": "execute_result"
    }
   ],
   "source": [
    "np.ones(4)"
   ]
  },
  {
   "cell_type": "code",
   "execution_count": 10,
   "id": "264d015a-e0ea-4643-bc1e-24688ad29d2a",
   "metadata": {},
   "outputs": [],
   "source": [
    "on=np.ones((2,3,2))"
   ]
  },
  {
   "cell_type": "code",
   "execution_count": 11,
   "id": "9d93f5f5-2034-40b0-b0d9-326346ee0533",
   "metadata": {},
   "outputs": [
    {
     "data": {
      "text/plain": [
       "array([[[1., 1.],\n",
       "        [1., 1.],\n",
       "        [1., 1.]],\n",
       "\n",
       "       [[1., 1.],\n",
       "        [1., 1.],\n",
       "        [1., 1.]]])"
      ]
     },
     "execution_count": 11,
     "metadata": {},
     "output_type": "execute_result"
    }
   ],
   "source": [
    "on"
   ]
  },
  {
   "cell_type": "code",
   "execution_count": 12,
   "id": "ae856a44-0c8f-4713-a1fd-c45ad48d6184",
   "metadata": {},
   "outputs": [
    {
     "data": {
      "text/plain": [
       "array([[[3., 3.],\n",
       "        [3., 3.],\n",
       "        [3., 3.]],\n",
       "\n",
       "       [[3., 3.],\n",
       "        [3., 3.],\n",
       "        [3., 3.]]])"
      ]
     },
     "execution_count": 12,
     "metadata": {},
     "output_type": "execute_result"
    }
   ],
   "source": [
    "on+2"
   ]
  },
  {
   "cell_type": "code",
   "execution_count": 14,
   "id": "28377da6-47ac-48d8-ba37-6fac5816f82a",
   "metadata": {},
   "outputs": [
    {
     "data": {
      "text/plain": [
       "array([[4.69038245e-310, 0.00000000e+000],\n",
       "       [2.14321575e-312, 8.48798317e-313],\n",
       "       [8.70018275e-313, 0.00000000e+000]])"
      ]
     },
     "execution_count": 14,
     "metadata": {},
     "output_type": "execute_result"
    }
   ],
   "source": [
    "np.empty((3,2))"
   ]
  },
  {
   "cell_type": "code",
   "execution_count": 16,
   "id": "130c8c63-4db2-44d6-a97b-76b973838ec7",
   "metadata": {},
   "outputs": [
    {
     "data": {
      "text/plain": [
       "array([[1., 0., 0., 0.],\n",
       "       [0., 1., 0., 0.],\n",
       "       [0., 0., 1., 0.],\n",
       "       [0., 0., 0., 1.]])"
      ]
     },
     "execution_count": 16,
     "metadata": {},
     "output_type": "execute_result"
    }
   ],
   "source": [
    "np.eye(4)"
   ]
  },
  {
   "cell_type": "code",
   "execution_count": 20,
   "id": "b776164a-bb09-4fa2-bd67-b4c4521aaec2",
   "metadata": {},
   "outputs": [
    {
     "data": {
      "text/plain": [
       "array([2.        , 2.05263158, 2.10526316, 2.15789474, 2.21052632,\n",
       "       2.26315789, 2.31578947, 2.36842105, 2.42105263, 2.47368421,\n",
       "       2.52631579, 2.57894737, 2.63157895, 2.68421053, 2.73684211,\n",
       "       2.78947368, 2.84210526, 2.89473684, 2.94736842, 3.        ])"
      ]
     },
     "execution_count": 20,
     "metadata": {},
     "output_type": "execute_result"
    }
   ],
   "source": [
    "np.linspace(2,3,20)"
   ]
  },
  {
   "cell_type": "code",
   "execution_count": 21,
   "id": "9be0f760-1418-4c01-a116-568bdaec8d67",
   "metadata": {},
   "outputs": [
    {
     "data": {
      "text/plain": [
       "array([   100.        ,    215.443469  ,    464.15888336,   1000.        ,\n",
       "         2154.43469003,   4641.58883361,  10000.        ,  21544.34690032,\n",
       "        46415.88833613, 100000.        ])"
      ]
     },
     "execution_count": 21,
     "metadata": {},
     "output_type": "execute_result"
    }
   ],
   "source": [
    "np.logspace(2,5,10)"
   ]
  },
  {
   "cell_type": "code",
   "execution_count": 22,
   "id": "5f2e868a-a64e-48fa-87b4-a780ec1d3e14",
   "metadata": {},
   "outputs": [
    {
     "data": {
      "text/plain": [
       "array([ 4.        ,  5.0396842 ,  6.34960421,  8.        , 10.0793684 ,\n",
       "       12.69920842, 16.        , 20.1587368 , 25.39841683, 32.        ])"
      ]
     },
     "execution_count": 22,
     "metadata": {},
     "output_type": "execute_result"
    }
   ],
   "source": [
    "np.logspace(2,5,10,base=2)"
   ]
  },
  {
   "cell_type": "code",
   "execution_count": 24,
   "id": "16662e75-f5e0-4677-a5b9-465363facca3",
   "metadata": {},
   "outputs": [],
   "source": [
    "arr5=np.random.rand(3,4)"
   ]
  },
  {
   "cell_type": "code",
   "execution_count": 25,
   "id": "dad58a82-4763-437f-b910-0c3e0455e85f",
   "metadata": {},
   "outputs": [
    {
     "data": {
      "text/plain": [
       "array([[0.67800542, 0.90403901, 0.75383133, 0.22717461],\n",
       "       [0.29720005, 0.64127225, 0.19685274, 0.0848273 ],\n",
       "       [0.13082508, 0.13087876, 0.84594349, 0.70953411]])"
      ]
     },
     "execution_count": 25,
     "metadata": {},
     "output_type": "execute_result"
    }
   ],
   "source": [
    "arr5"
   ]
  },
  {
   "cell_type": "code",
   "execution_count": 9,
   "id": "932f45bb-c9d8-4bfe-b87d-7b91d9f8aabe",
   "metadata": {},
   "outputs": [],
   "source": [
    "import pandas as pd"
   ]
  },
  {
   "cell_type": "code",
   "execution_count": 27,
   "id": "681da277-b841-4ccf-963b-013aa6133a25",
   "metadata": {},
   "outputs": [
    {
     "data": {
      "text/html": [
       "<div>\n",
       "<style scoped>\n",
       "    .dataframe tbody tr th:only-of-type {\n",
       "        vertical-align: middle;\n",
       "    }\n",
       "\n",
       "    .dataframe tbody tr th {\n",
       "        vertical-align: top;\n",
       "    }\n",
       "\n",
       "    .dataframe thead th {\n",
       "        text-align: right;\n",
       "    }\n",
       "</style>\n",
       "<table border=\"1\" class=\"dataframe\">\n",
       "  <thead>\n",
       "    <tr style=\"text-align: right;\">\n",
       "      <th></th>\n",
       "      <th>0</th>\n",
       "      <th>1</th>\n",
       "      <th>2</th>\n",
       "      <th>3</th>\n",
       "    </tr>\n",
       "  </thead>\n",
       "  <tbody>\n",
       "    <tr>\n",
       "      <th>0</th>\n",
       "      <td>0.678005</td>\n",
       "      <td>0.904039</td>\n",
       "      <td>0.753831</td>\n",
       "      <td>0.227175</td>\n",
       "    </tr>\n",
       "    <tr>\n",
       "      <th>1</th>\n",
       "      <td>0.297200</td>\n",
       "      <td>0.641272</td>\n",
       "      <td>0.196853</td>\n",
       "      <td>0.084827</td>\n",
       "    </tr>\n",
       "    <tr>\n",
       "      <th>2</th>\n",
       "      <td>0.130825</td>\n",
       "      <td>0.130879</td>\n",
       "      <td>0.845943</td>\n",
       "      <td>0.709534</td>\n",
       "    </tr>\n",
       "  </tbody>\n",
       "</table>\n",
       "</div>"
      ],
      "text/plain": [
       "          0         1         2         3\n",
       "0  0.678005  0.904039  0.753831  0.227175\n",
       "1  0.297200  0.641272  0.196853  0.084827\n",
       "2  0.130825  0.130879  0.845943  0.709534"
      ]
     },
     "execution_count": 27,
     "metadata": {},
     "output_type": "execute_result"
    }
   ],
   "source": [
    "pd.DataFrame(arr5)"
   ]
  },
  {
   "cell_type": "code",
   "execution_count": 28,
   "id": "69867215-84e2-4a76-b5f0-3c565dd0b730",
   "metadata": {},
   "outputs": [
    {
     "data": {
      "text/plain": [
       "array([[-1.03512526, -0.2092819 , -1.03049224, -3.44506234],\n",
       "       [-1.5531002 , -1.26369972, -1.1722138 , -0.42824484]])"
      ]
     },
     "execution_count": 28,
     "metadata": {},
     "output_type": "execute_result"
    }
   ],
   "source": [
    "np.random.randn(2,4)"
   ]
  },
  {
   "cell_type": "code",
   "execution_count": 30,
   "id": "70e3fd55-ea4d-4ed8-9ad1-1b850eb5c7d3",
   "metadata": {},
   "outputs": [
    {
     "data": {
      "text/plain": [
       "array([[0.22037576, 0.72046187, 0.76301448, 0.79118708],\n",
       "       [0.62672953, 0.48820943, 0.27080697, 0.18562269],\n",
       "       [0.49717704, 0.56630187, 0.088226  , 0.87063087]])"
      ]
     },
     "execution_count": 30,
     "metadata": {},
     "output_type": "execute_result"
    }
   ],
   "source": [
    "np.random.rand(3,4)"
   ]
  },
  {
   "cell_type": "code",
   "execution_count": 11,
   "id": "1d3bb941-569d-4047-83f4-4d4c85d53b84",
   "metadata": {},
   "outputs": [],
   "source": [
    "df3=np.random.randint(1,100, (30,12))"
   ]
  },
  {
   "cell_type": "code",
   "execution_count": 12,
   "id": "50ca2586-41ac-4ce6-8895-a61c0032bbe2",
   "metadata": {},
   "outputs": [
    {
     "data": {
      "text/plain": [
       "array([[ 8, 14, 89, 33, 75, 63, 89, 31, 14, 95, 26, 61],\n",
       "       [18, 87, 38, 56, 56, 43, 22, 11, 26, 75, 56, 94],\n",
       "       [63, 17, 71, 91, 80, 56, 93, 92, 80, 32, 32, 59],\n",
       "       [46,  4, 16,  4, 78, 74, 77, 18, 71, 75, 64, 14],\n",
       "       [36,  1, 54, 96,  7, 99, 47, 54, 12, 19, 52, 10],\n",
       "       [82, 39, 95, 38, 96, 22, 88, 92, 39, 45, 37, 15],\n",
       "       [72, 23, 17, 49, 79, 47, 99, 28, 28, 16,  1, 98],\n",
       "       [75, 87, 38,  5,  9, 13,  1, 19, 69, 85, 82, 23],\n",
       "       [34,  8, 16, 22, 32, 35, 17, 57, 87,  4, 88, 75],\n",
       "       [78, 87, 10, 12, 88, 48, 56, 87, 68, 47, 20,  5],\n",
       "       [19, 45, 87, 95, 90, 75, 49, 29, 47, 86, 65, 98],\n",
       "       [74, 75, 76, 33,  7, 31, 35, 41, 29, 95,  9, 51],\n",
       "       [89, 24, 50, 30, 52, 19, 74, 24, 62, 54, 79,  2],\n",
       "       [71, 66, 68, 95, 39, 47, 50, 14, 34, 48, 43, 42],\n",
       "       [23, 20, 74, 21, 37, 42, 57,  5, 39, 29,  7, 42],\n",
       "       [67, 71,  7, 23, 31, 32, 95, 13, 33, 53, 85, 66],\n",
       "       [34, 68, 48, 67, 32, 41, 63, 63, 98, 32, 35, 15],\n",
       "       [83, 47,  6, 45, 98, 38, 45, 33, 80, 66, 68, 46],\n",
       "       [37, 26, 62,  6, 87, 26, 23, 82, 56, 59, 78, 83],\n",
       "       [65, 47, 49, 81, 45, 24, 11, 47,  7, 63, 91, 22],\n",
       "       [59, 23, 43, 50,  6, 73, 67, 83, 72, 94, 67, 44],\n",
       "       [15, 10, 38, 58, 63, 16, 81, 82, 76,  7, 95, 51],\n",
       "       [83, 15, 75, 13, 36, 77, 16, 51, 48, 43, 75, 42],\n",
       "       [58, 86, 61, 82, 44, 17, 44,  3,  8, 95, 58, 42],\n",
       "       [18, 59, 36, 38, 18, 43, 36,  6, 44, 26, 98, 36],\n",
       "       [26, 59, 68,  5, 94, 81, 32, 52, 11,  9, 85, 13],\n",
       "       [45, 74, 83, 41, 76, 57, 36, 12,  5, 70, 64, 35],\n",
       "       [69,  3, 74, 46, 52, 18, 31, 97, 41, 38, 59, 98],\n",
       "       [90, 66, 83, 60, 26, 27, 48, 81,  2, 39, 34, 21],\n",
       "       [27, 97, 59, 98, 35,  4, 38, 75,  2, 30,  1, 14]])"
      ]
     },
     "execution_count": 12,
     "metadata": {},
     "output_type": "execute_result"
    }
   ],
   "source": [
    "df3"
   ]
  },
  {
   "cell_type": "code",
   "execution_count": 14,
   "id": "30cf60c3-4623-4ac2-8ace-a4f874b9b717",
   "metadata": {},
   "outputs": [],
   "source": [
    "df2=pd.DataFrame(df3)"
   ]
  },
  {
   "cell_type": "code",
   "execution_count": 16,
   "id": "ca490d30-7ad0-44c2-8c66-6bbc9e4b0ae6",
   "metadata": {},
   "outputs": [],
   "source": [
    "df2.to_csv('matrix.csv')"
   ]
  },
  {
   "cell_type": "code",
   "execution_count": 17,
   "id": "5f09f6b6-72fe-46f5-9c68-f1b83d7926a6",
   "metadata": {},
   "outputs": [],
   "source": [
    "arr=np.random.rand(3,2)"
   ]
  },
  {
   "cell_type": "code",
   "execution_count": 18,
   "id": "995810af-6806-460c-abdb-c4f4ee2df15f",
   "metadata": {},
   "outputs": [
    {
     "data": {
      "text/plain": [
       "array([[0.02607148, 0.61384274],\n",
       "       [0.53214149, 0.2700948 ],\n",
       "       [0.1303232 , 0.80432919]])"
      ]
     },
     "execution_count": 18,
     "metadata": {},
     "output_type": "execute_result"
    }
   ],
   "source": [
    "arr"
   ]
  },
  {
   "cell_type": "code",
   "execution_count": 28,
   "id": "2f8721e1-d783-497d-b561-eabdc45d2769",
   "metadata": {},
   "outputs": [],
   "source": [
    "arr1=arr.reshape(2,3)"
   ]
  },
  {
   "cell_type": "code",
   "execution_count": 20,
   "id": "6271c3a9-8156-4893-ae28-e015e8fe88a2",
   "metadata": {},
   "outputs": [
    {
     "data": {
      "text/plain": [
       "array([0.02607148, 0.61384274, 0.53214149, 0.2700948 , 0.1303232 ,\n",
       "       0.80432919])"
      ]
     },
     "execution_count": 20,
     "metadata": {},
     "output_type": "execute_result"
    }
   ],
   "source": [
    "arr.reshape(6)"
   ]
  },
  {
   "cell_type": "code",
   "execution_count": 22,
   "id": "b2556520-6819-4e62-97cd-c98886bc7e31",
   "metadata": {},
   "outputs": [
    {
     "data": {
      "text/plain": [
       "array([[0.02607148, 0.61384274, 0.53214149],\n",
       "       [0.2700948 , 0.1303232 , 0.80432919]])"
      ]
     },
     "execution_count": 22,
     "metadata": {},
     "output_type": "execute_result"
    }
   ],
   "source": [
    "arr1"
   ]
  },
  {
   "cell_type": "code",
   "execution_count": 24,
   "id": "fef74f4d-dfba-4e14-93c9-5f0344ba4d7e",
   "metadata": {},
   "outputs": [
    {
     "data": {
      "text/plain": [
       "0.8043291919116294"
      ]
     },
     "execution_count": 24,
     "metadata": {},
     "output_type": "execute_result"
    }
   ],
   "source": [
    "arr1[1][2]"
   ]
  },
  {
   "cell_type": "code",
   "execution_count": 29,
   "id": "a750fdc8-3cab-4b40-bb84-5940791aeaba",
   "metadata": {},
   "outputs": [],
   "source": [
    "arr2=np.random.rand(4,3)"
   ]
  },
  {
   "cell_type": "code",
   "execution_count": 30,
   "id": "a71dc6cd-22cd-407f-8f2b-62d4d004e31d",
   "metadata": {},
   "outputs": [
    {
     "data": {
      "text/plain": [
       "array([[0.02707344, 0.63298582, 0.0544687 ],\n",
       "       [0.01467886, 0.99975343, 0.11129444],\n",
       "       [0.79145037, 0.60602212, 0.99827932],\n",
       "       [0.17849715, 0.42793011, 0.98572546]])"
      ]
     },
     "execution_count": 30,
     "metadata": {},
     "output_type": "execute_result"
    }
   ],
   "source": [
    "arr2"
   ]
  },
  {
   "cell_type": "code",
   "execution_count": 35,
   "id": "b01d8021-f4b8-46ac-b687-69c5ca00062c",
   "metadata": {},
   "outputs": [
    {
     "data": {
      "text/plain": [
       "array([[0.99975343, 0.11129444],\n",
       "       [0.60602212, 0.99827932],\n",
       "       [0.42793011, 0.98572546]])"
      ]
     },
     "execution_count": 35,
     "metadata": {},
     "output_type": "execute_result"
    }
   ],
   "source": [
    "arr2[1:4,(1,2)]"
   ]
  },
  {
   "cell_type": "code",
   "execution_count": 38,
   "id": "04181c34-6939-41df-8071-d78f7e7db675",
   "metadata": {},
   "outputs": [],
   "source": [
    "arr3=np.random.randint(1,100,(5,5))"
   ]
  },
  {
   "cell_type": "code",
   "execution_count": 39,
   "id": "3831ac6a-5d29-4f19-9add-814acdce3e01",
   "metadata": {},
   "outputs": [
    {
     "data": {
      "text/plain": [
       "array([[ 6, 51, 83, 37, 43],\n",
       "       [ 1, 78, 81, 36, 30],\n",
       "       [12, 74, 65, 15, 37],\n",
       "       [49,  5,  3, 86, 53],\n",
       "       [89, 10, 60, 34, 54]])"
      ]
     },
     "execution_count": 39,
     "metadata": {},
     "output_type": "execute_result"
    }
   ],
   "source": [
    "arr3"
   ]
  },
  {
   "cell_type": "code",
   "execution_count": 41,
   "id": "d3706cb1-0c83-40f2-934b-323f57df9898",
   "metadata": {},
   "outputs": [
    {
     "data": {
      "text/plain": [
       "array([51, 83, 78, 81, 74, 65, 86, 53, 89, 60, 54])"
      ]
     },
     "execution_count": 41,
     "metadata": {},
     "output_type": "execute_result"
    }
   ],
   "source": [
    "arr3[arr3>50]"
   ]
  },
  {
   "cell_type": "code",
   "execution_count": 42,
   "id": "d9740c7b-1188-4deb-b497-22184295932d",
   "metadata": {},
   "outputs": [
    {
     "data": {
      "text/plain": [
       "array([[ 6, 51, 83, 37, 43],\n",
       "       [ 1, 78, 81, 36, 30],\n",
       "       [12, 74, 65, 15, 37],\n",
       "       [49,  5,  3, 86, 53],\n",
       "       [89, 10, 60, 34, 54]])"
      ]
     },
     "execution_count": 42,
     "metadata": {},
     "output_type": "execute_result"
    }
   ],
   "source": [
    "arr3\n"
   ]
  },
  {
   "cell_type": "code",
   "execution_count": 43,
   "id": "b6581ba0-03f1-42ca-96c6-8082f6fdf0a1",
   "metadata": {},
   "outputs": [
    {
     "data": {
      "text/plain": [
       "6"
      ]
     },
     "execution_count": 43,
     "metadata": {},
     "output_type": "execute_result"
    }
   ],
   "source": [
    "arr3[0][0]"
   ]
  },
  {
   "cell_type": "code",
   "execution_count": 44,
   "id": "df318ef4-2d27-4852-8e16-4862c8f18ef4",
   "metadata": {},
   "outputs": [],
   "source": [
    "arr3[0][0]=300"
   ]
  },
  {
   "cell_type": "code",
   "execution_count": 45,
   "id": "238ee66a-0470-4fe8-9c67-c7809f1e69ae",
   "metadata": {},
   "outputs": [
    {
     "data": {
      "text/plain": [
       "array([[300,  51,  83,  37,  43],\n",
       "       [  1,  78,  81,  36,  30],\n",
       "       [ 12,  74,  65,  15,  37],\n",
       "       [ 49,   5,   3,  86,  53],\n",
       "       [ 89,  10,  60,  34,  54]])"
      ]
     },
     "execution_count": 45,
     "metadata": {},
     "output_type": "execute_result"
    }
   ],
   "source": [
    "arr3"
   ]
  },
  {
   "cell_type": "code",
   "execution_count": 46,
   "id": "ab01d920-3f50-4865-8ce6-88e6143a445d",
   "metadata": {},
   "outputs": [],
   "source": [
    "arr4=np.random.randint(1,3,(2,2))\n",
    "arr5=np.random.randint(1,3,(2,2))"
   ]
  },
  {
   "cell_type": "code",
   "execution_count": 47,
   "id": "292d046e-d5d4-455a-aabf-b2247c89ff0b",
   "metadata": {},
   "outputs": [
    {
     "data": {
      "text/plain": [
       "array([[2, 2],\n",
       "       [1, 2]])"
      ]
     },
     "execution_count": 47,
     "metadata": {},
     "output_type": "execute_result"
    }
   ],
   "source": [
    "arr4"
   ]
  },
  {
   "cell_type": "code",
   "execution_count": 48,
   "id": "2f88ded7-0988-4228-bb0a-7441b30c40ee",
   "metadata": {},
   "outputs": [
    {
     "data": {
      "text/plain": [
       "array([[1, 2],\n",
       "       [1, 2]])"
      ]
     },
     "execution_count": 48,
     "metadata": {},
     "output_type": "execute_result"
    }
   ],
   "source": [
    "arr5"
   ]
  },
  {
   "cell_type": "code",
   "execution_count": 49,
   "id": "8a4986ac-413c-471e-9f1a-eec3584b5c5f",
   "metadata": {},
   "outputs": [
    {
     "data": {
      "text/plain": [
       "array([[3, 4],\n",
       "       [2, 4]])"
      ]
     },
     "execution_count": 49,
     "metadata": {},
     "output_type": "execute_result"
    }
   ],
   "source": [
    "arr4+arr5"
   ]
  },
  {
   "cell_type": "code",
   "execution_count": 50,
   "id": "851ff8e8-afea-4976-96ac-950d65746f4b",
   "metadata": {},
   "outputs": [
    {
     "data": {
      "text/plain": [
       "array([[1, 0],\n",
       "       [0, 0]])"
      ]
     },
     "execution_count": 50,
     "metadata": {},
     "output_type": "execute_result"
    }
   ],
   "source": [
    "arr4-arr5"
   ]
  },
  {
   "cell_type": "code",
   "execution_count": 51,
   "id": "ef40348c-dfcd-43f3-9592-62a76288ea49",
   "metadata": {},
   "outputs": [
    {
     "data": {
      "text/plain": [
       "array([[2, 4],\n",
       "       [1, 4]])"
      ]
     },
     "execution_count": 51,
     "metadata": {},
     "output_type": "execute_result"
    }
   ],
   "source": [
    "arr4*arr5"
   ]
  },
  {
   "cell_type": "code",
   "execution_count": 52,
   "id": "8e52aa7b-3edd-4470-92c6-557336d92440",
   "metadata": {},
   "outputs": [
    {
     "data": {
      "text/plain": [
       "array([[4, 8],\n",
       "       [3, 6]])"
      ]
     },
     "execution_count": 52,
     "metadata": {},
     "output_type": "execute_result"
    }
   ],
   "source": [
    "arr4@arr5"
   ]
  },
  {
   "cell_type": "code",
   "execution_count": 53,
   "id": "23c92021-c161-45f9-b5fa-21075432481b",
   "metadata": {},
   "outputs": [
    {
     "name": "stderr",
     "output_type": "stream",
     "text": [
      "/tmp/ipykernel_77/1674986024.py:1: RuntimeWarning: divide by zero encountered in divide\n",
      "  arr4/0\n"
     ]
    },
    {
     "data": {
      "text/plain": [
       "array([[inf, inf],\n",
       "       [inf, inf]])"
      ]
     },
     "execution_count": 53,
     "metadata": {},
     "output_type": "execute_result"
    }
   ],
   "source": [
    "arr4/0"
   ]
  },
  {
   "cell_type": "code",
   "execution_count": 54,
   "id": "c06dea15-652f-498a-b2d6-7497293613a0",
   "metadata": {},
   "outputs": [
    {
     "data": {
      "text/plain": [
       "array([[102, 102],\n",
       "       [101, 102]])"
      ]
     },
     "execution_count": 54,
     "metadata": {},
     "output_type": "execute_result"
    }
   ],
   "source": [
    "arr4+100"
   ]
  },
  {
   "cell_type": "code",
   "execution_count": 55,
   "id": "8ae92fdb-1e6b-4a78-9f2f-6d0de6715a9e",
   "metadata": {},
   "outputs": [
    {
     "data": {
      "text/plain": [
       "array([[4, 4],\n",
       "       [1, 4]])"
      ]
     },
     "execution_count": 55,
     "metadata": {},
     "output_type": "execute_result"
    }
   ],
   "source": [
    "arr4**2"
   ]
  },
  {
   "cell_type": "code",
   "execution_count": 56,
   "id": "8668b183-da6c-4d63-b53d-1549f62ed223",
   "metadata": {},
   "outputs": [],
   "source": [
    "# numpy - brodcasting."
   ]
  },
  {
   "cell_type": "code",
   "execution_count": 75,
   "id": "e5d5eb0b-0689-4c94-83e4-06d56e0ac602",
   "metadata": {},
   "outputs": [],
   "source": [
    "arr5=np.zeros((3,3))"
   ]
  },
  {
   "cell_type": "code",
   "execution_count": 76,
   "id": "4bc5f5d3-3bce-4bc8-81ae-b58fa0c06a6a",
   "metadata": {},
   "outputs": [
    {
     "data": {
      "text/plain": [
       "array([[0., 0., 0.],\n",
       "       [0., 0., 0.],\n",
       "       [0., 0., 0.]])"
      ]
     },
     "execution_count": 76,
     "metadata": {},
     "output_type": "execute_result"
    }
   ],
   "source": [
    "arr5"
   ]
  },
  {
   "cell_type": "code",
   "execution_count": 77,
   "id": "dfefb6f0-b6e0-4445-bcff-a20d5cbd0d06",
   "metadata": {},
   "outputs": [],
   "source": [
    "row=np.array([1,2,3])"
   ]
  },
  {
   "cell_type": "code",
   "execution_count": 78,
   "id": "e338a55c-36d6-4150-9509-b96cb4777b8d",
   "metadata": {},
   "outputs": [
    {
     "data": {
      "text/plain": [
       "array([1, 2, 3])"
      ]
     },
     "execution_count": 78,
     "metadata": {},
     "output_type": "execute_result"
    }
   ],
   "source": [
    "row"
   ]
  },
  {
   "cell_type": "code",
   "execution_count": 79,
   "id": "0fc34ae0-0563-467f-9190-1f6c1ce11ea7",
   "metadata": {},
   "outputs": [
    {
     "data": {
      "text/plain": [
       "array([[1., 2., 3.],\n",
       "       [1., 2., 3.],\n",
       "       [1., 2., 3.]])"
      ]
     },
     "execution_count": 79,
     "metadata": {},
     "output_type": "execute_result"
    }
   ],
   "source": [
    "arr5+row  # row wise brodcasting in whole matrix."
   ]
  },
  {
   "cell_type": "code",
   "execution_count": 67,
   "id": "bea3a464-b3e0-472f-9289-11cc086224ff",
   "metadata": {},
   "outputs": [],
   "source": [
    "row1=np.array([[1,2,3]]) # for column wise brodcasting in matrix."
   ]
  },
  {
   "cell_type": "code",
   "execution_count": 70,
   "id": "a7c1d970-3ee9-4b21-ba87-7bda188b42ef",
   "metadata": {},
   "outputs": [],
   "source": [
    "col=row1.T"
   ]
  },
  {
   "cell_type": "code",
   "execution_count": 71,
   "id": "d7e76295-f6f7-44fd-ac64-71d9a3f92367",
   "metadata": {},
   "outputs": [
    {
     "data": {
      "text/plain": [
       "array([[1],\n",
       "       [2],\n",
       "       [3]])"
      ]
     },
     "execution_count": 71,
     "metadata": {},
     "output_type": "execute_result"
    }
   ],
   "source": [
    "col"
   ]
  },
  {
   "cell_type": "code",
   "execution_count": 80,
   "id": "82d0d882-4800-461e-93ab-5b8bced8ec3b",
   "metadata": {},
   "outputs": [
    {
     "data": {
      "text/plain": [
       "array([[1., 1., 1.],\n",
       "       [2., 2., 2.],\n",
       "       [3., 3., 3.]])"
      ]
     },
     "execution_count": 80,
     "metadata": {},
     "output_type": "execute_result"
    }
   ],
   "source": [
    "arr5+col    #column wise brodcasting in matrix."
   ]
  },
  {
   "cell_type": "code",
   "execution_count": 83,
   "id": "aae20b61-cdea-4bbb-89ca-12858738cfba",
   "metadata": {},
   "outputs": [],
   "source": [
    "arr6=np.random.randint(1,100, (3,4))"
   ]
  },
  {
   "cell_type": "code",
   "execution_count": 84,
   "id": "fef97c14-2224-4270-a8f7-f501d813593e",
   "metadata": {},
   "outputs": [
    {
     "data": {
      "text/plain": [
       "array([[ 8, 44, 94, 54],\n",
       "       [65, 81, 23, 55],\n",
       "       [36, 50, 87, 67]])"
      ]
     },
     "execution_count": 84,
     "metadata": {},
     "output_type": "execute_result"
    }
   ],
   "source": [
    "arr6"
   ]
  },
  {
   "cell_type": "code",
   "execution_count": 85,
   "id": "a70cbded-8b51-4616-8649-254a0d0a28e9",
   "metadata": {},
   "outputs": [
    {
     "data": {
      "text/plain": [
       "array([[2.82842712, 6.63324958, 9.69535971, 7.34846923],\n",
       "       [8.06225775, 9.        , 4.79583152, 7.41619849],\n",
       "       [6.        , 7.07106781, 9.32737905, 8.18535277]])"
      ]
     },
     "execution_count": 85,
     "metadata": {},
     "output_type": "execute_result"
    }
   ],
   "source": [
    "np.sqrt(arr6)"
   ]
  },
  {
   "cell_type": "code",
   "execution_count": 86,
   "id": "33846b62-575e-45ed-984d-550bcb7b3d0c",
   "metadata": {},
   "outputs": [
    {
     "data": {
      "text/plain": [
       "array([[2.98095799e+03, 1.28516001e+19, 6.66317622e+40, 2.83075330e+23],\n",
       "       [1.69488924e+28, 1.50609731e+35, 9.74480345e+09, 7.69478527e+23],\n",
       "       [4.31123155e+15, 5.18470553e+21, 6.07603023e+37, 1.25236317e+29]])"
      ]
     },
     "execution_count": 86,
     "metadata": {},
     "output_type": "execute_result"
    }
   ],
   "source": [
    "np.exp(arr6)"
   ]
  },
  {
   "cell_type": "code",
   "execution_count": 88,
   "id": "ec6fe138-5f09-451d-8dfc-93097b19791e",
   "metadata": {},
   "outputs": [
    {
     "data": {
      "text/plain": [
       "array([[3.        , 5.45943162, 6.55458885, 5.7548875 ],\n",
       "       [6.02236781, 6.33985   , 4.52356196, 5.78135971],\n",
       "       [5.169925  , 5.64385619, 6.4429435 , 6.06608919]])"
      ]
     },
     "execution_count": 88,
     "metadata": {},
     "output_type": "execute_result"
    }
   ],
   "source": [
    "np.log2(arr6)"
   ]
  },
  {
   "cell_type": "code",
   "execution_count": null,
   "id": "f269bc38-188d-474f-ae34-359028969700",
   "metadata": {},
   "outputs": [],
   "source": []
  }
 ],
 "metadata": {
  "kernelspec": {
   "display_name": "Python 3 (ipykernel)",
   "language": "python",
   "name": "python3"
  },
  "language_info": {
   "codemirror_mode": {
    "name": "ipython",
    "version": 3
   },
   "file_extension": ".py",
   "mimetype": "text/x-python",
   "name": "python",
   "nbconvert_exporter": "python",
   "pygments_lexer": "ipython3",
   "version": "3.10.8"
  }
 },
 "nbformat": 4,
 "nbformat_minor": 5
}
