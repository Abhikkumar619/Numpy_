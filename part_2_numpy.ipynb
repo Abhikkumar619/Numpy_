{
 "cells": [
  {
   "cell_type": "code",
   "execution_count": 1,
   "id": "b633886b-1dc6-4926-8eaa-338e35c9e030",
   "metadata": {},
   "outputs": [],
   "source": [
    "# numpy - data manipulation\n"
   ]
  },
  {
   "cell_type": "code",
   "execution_count": 2,
   "id": "d5f48b3e-e397-4e89-9406-4d8f1d6bf137",
   "metadata": {},
   "outputs": [],
   "source": [
    "import numpy as np"
   ]
  },
  {
   "cell_type": "code",
   "execution_count": 3,
   "id": "e7b9e2cd-8056-49a0-a314-86d17f07d624",
   "metadata": {},
   "outputs": [],
   "source": [
    "arr=np.random.randint(1,10,(3,4))"
   ]
  },
  {
   "cell_type": "code",
   "execution_count": 4,
   "id": "609a63ce-cf5e-4e7a-97c3-8998fac4a786",
   "metadata": {},
   "outputs": [
    {
     "data": {
      "text/plain": [
       "array([[7, 3, 3, 6],\n",
       "       [7, 9, 1, 9],\n",
       "       [7, 4, 2, 4]])"
      ]
     },
     "execution_count": 4,
     "metadata": {},
     "output_type": "execute_result"
    }
   ],
   "source": [
    "arr"
   ]
  },
  {
   "cell_type": "code",
   "execution_count": 5,
   "id": "f6ccefd3-52b8-4672-a5fc-49dd053010db",
   "metadata": {},
   "outputs": [
    {
     "data": {
      "text/plain": [
       "array([[7, 3],\n",
       "       [3, 6],\n",
       "       [7, 9],\n",
       "       [1, 9],\n",
       "       [7, 4],\n",
       "       [2, 4]])"
      ]
     },
     "execution_count": 5,
     "metadata": {},
     "output_type": "execute_result"
    }
   ],
   "source": [
    "arr.reshape(6,2)"
   ]
  },
  {
   "cell_type": "code",
   "execution_count": 6,
   "id": "f008b400-c2c9-425f-bdf9-45e62eadfe29",
   "metadata": {},
   "outputs": [
    {
     "data": {
      "text/plain": [
       "array([[7, 3, 3],\n",
       "       [6, 7, 9],\n",
       "       [1, 9, 7],\n",
       "       [4, 2, 4]])"
      ]
     },
     "execution_count": 6,
     "metadata": {},
     "output_type": "execute_result"
    }
   ],
   "source": [
    "arr.reshape(4,3)"
   ]
  },
  {
   "cell_type": "code",
   "execution_count": 7,
   "id": "b7e6af01-f665-40ca-be90-eccbd029957f",
   "metadata": {},
   "outputs": [
    {
     "data": {
      "text/plain": [
       "array([[7, 3, 3],\n",
       "       [6, 7, 9],\n",
       "       [1, 9, 7],\n",
       "       [4, 2, 4]])"
      ]
     },
     "execution_count": 7,
     "metadata": {},
     "output_type": "execute_result"
    }
   ],
   "source": [
    "arr.reshape(4,-2)"
   ]
  },
  {
   "cell_type": "code",
   "execution_count": 8,
   "id": "63f50009-84d7-4e80-8939-f63c046407b9",
   "metadata": {},
   "outputs": [
    {
     "data": {
      "text/plain": [
       "array([[7, 7, 7],\n",
       "       [3, 9, 4],\n",
       "       [3, 1, 2],\n",
       "       [6, 9, 4]])"
      ]
     },
     "execution_count": 8,
     "metadata": {},
     "output_type": "execute_result"
    }
   ],
   "source": [
    "arr.T"
   ]
  },
  {
   "cell_type": "code",
   "execution_count": 9,
   "id": "d725c9d6-1b47-44ad-b5a1-6484ca2fdf52",
   "metadata": {},
   "outputs": [
    {
     "data": {
      "text/plain": [
       "array([7, 3, 3, 6, 7, 9, 1, 9, 7, 4, 2, 4])"
      ]
     },
     "execution_count": 9,
     "metadata": {},
     "output_type": "execute_result"
    }
   ],
   "source": [
    "arr.flatten()   #simply convert in one dimesional array."
   ]
  },
  {
   "cell_type": "code",
   "execution_count": 10,
   "id": "aa4a4c97-6cd8-452c-8305-212e828db9db",
   "metadata": {},
   "outputs": [],
   "source": [
    "arr1=np.array([1,2,3,4])"
   ]
  },
  {
   "cell_type": "code",
   "execution_count": 12,
   "id": "d6736cb5-92fa-4798-b58d-e06bb1c3cc12",
   "metadata": {},
   "outputs": [
    {
     "data": {
      "text/plain": [
       "1"
      ]
     },
     "execution_count": 12,
     "metadata": {},
     "output_type": "execute_result"
    }
   ],
   "source": [
    "arr1.ndim"
   ]
  },
  {
   "cell_type": "code",
   "execution_count": 14,
   "id": "fd453978-55b4-4d42-9410-8d3fa6eff53c",
   "metadata": {},
   "outputs": [
    {
     "data": {
      "text/plain": [
       "array([[1],\n",
       "       [2],\n",
       "       [3],\n",
       "       [4]])"
      ]
     },
     "execution_count": 14,
     "metadata": {},
     "output_type": "execute_result"
    }
   ],
   "source": [
    "np.expand_dims(arr1, axis=1)"
   ]
  },
  {
   "cell_type": "code",
   "execution_count": 15,
   "id": "b73b612e-88d8-4e1e-b890-8f8306efbbb7",
   "metadata": {},
   "outputs": [
    {
     "data": {
      "text/plain": [
       "array([[1, 2, 3, 4]])"
      ]
     },
     "execution_count": 15,
     "metadata": {},
     "output_type": "execute_result"
    }
   ],
   "source": [
    "np.expand_dims(arr1, axis=0)"
   ]
  },
  {
   "cell_type": "code",
   "execution_count": 16,
   "id": "c30fe523-ae87-487b-acd7-65f03c4e49a0",
   "metadata": {},
   "outputs": [
    {
     "data": {
      "text/plain": [
       "array([[7, 3, 3, 6],\n",
       "       [7, 9, 1, 9],\n",
       "       [7, 4, 2, 4]])"
      ]
     },
     "execution_count": 16,
     "metadata": {},
     "output_type": "execute_result"
    }
   ],
   "source": [
    "np.squeeze(arr)"
   ]
  },
  {
   "cell_type": "code",
   "execution_count": 17,
   "id": "9d1611f3-59db-4be3-bcee-0da875bcd6b2",
   "metadata": {},
   "outputs": [],
   "source": [
    "data=np.array([[1],[2],[4]])"
   ]
  },
  {
   "cell_type": "code",
   "execution_count": 18,
   "id": "c6c785e7-5f0f-4b52-8675-4d99278f60cd",
   "metadata": {},
   "outputs": [
    {
     "data": {
      "text/plain": [
       "array([[1],\n",
       "       [2],\n",
       "       [4]])"
      ]
     },
     "execution_count": 18,
     "metadata": {},
     "output_type": "execute_result"
    }
   ],
   "source": [
    "data"
   ]
  },
  {
   "cell_type": "code",
   "execution_count": 19,
   "id": "176d7c05-c279-4bd5-a829-1fd14a9b95dd",
   "metadata": {},
   "outputs": [
    {
     "data": {
      "text/plain": [
       "array([1, 2, 4])"
      ]
     },
     "execution_count": 19,
     "metadata": {},
     "output_type": "execute_result"
    }
   ],
   "source": [
    "np.squeeze(data)"
   ]
  },
  {
   "cell_type": "code",
   "execution_count": 20,
   "id": "91352185-811b-4f03-a0f9-20763a28c010",
   "metadata": {},
   "outputs": [
    {
     "data": {
      "text/plain": [
       "array([1, 2, 3, 4])"
      ]
     },
     "execution_count": 20,
     "metadata": {},
     "output_type": "execute_result"
    }
   ],
   "source": [
    "arr1"
   ]
  },
  {
   "cell_type": "code",
   "execution_count": 22,
   "id": "98c465a9-6bbf-4b6a-9654-3ced24cac716",
   "metadata": {},
   "outputs": [
    {
     "data": {
      "text/plain": [
       "array([1, 1, 1, 2, 2, 2, 3, 3, 3, 4, 4, 4])"
      ]
     },
     "execution_count": 22,
     "metadata": {},
     "output_type": "execute_result"
    }
   ],
   "source": [
    "np.repeat(arr1, 3)"
   ]
  },
  {
   "cell_type": "code",
   "execution_count": 24,
   "id": "fc1153a3-26ad-44ac-bc52-50e7333a29c7",
   "metadata": {},
   "outputs": [
    {
     "data": {
      "text/plain": [
       "array([3, 4, 1, 2])"
      ]
     },
     "execution_count": 24,
     "metadata": {},
     "output_type": "execute_result"
    }
   ],
   "source": [
    "np.roll(arr1, shift=2)"
   ]
  },
  {
   "cell_type": "code",
   "execution_count": 25,
   "id": "fa0f98e6-d21c-4cae-a9f6-c8a71d1ec1eb",
   "metadata": {},
   "outputs": [
    {
     "data": {
      "text/plain": [
       "array([1, 2, 3, 4])"
      ]
     },
     "execution_count": 25,
     "metadata": {},
     "output_type": "execute_result"
    }
   ],
   "source": [
    "arr1"
   ]
  },
  {
   "cell_type": "code",
   "execution_count": 26,
   "id": "1997fd7f-ac06-4d7f-8d4c-b83ac053279e",
   "metadata": {},
   "outputs": [
    {
     "data": {
      "text/plain": [
       "array([[1, 0, 0, 0],\n",
       "       [0, 2, 0, 0],\n",
       "       [0, 0, 3, 0],\n",
       "       [0, 0, 0, 4]])"
      ]
     },
     "execution_count": 26,
     "metadata": {},
     "output_type": "execute_result"
    }
   ],
   "source": [
    "np.diag(arr1)"
   ]
  },
  {
   "cell_type": "code",
   "execution_count": 27,
   "id": "e96eed0a-0881-47e1-9fd7-deeab9abe66a",
   "metadata": {},
   "outputs": [],
   "source": [
    "# numpy - binary operation"
   ]
  },
  {
   "cell_type": "code",
   "execution_count": 28,
   "id": "0ba3432c-b0cf-46a3-bc0d-62ae8465f19c",
   "metadata": {},
   "outputs": [],
   "source": [
    "arr2=np.random.randint(1,10,(3,4))"
   ]
  },
  {
   "cell_type": "code",
   "execution_count": 30,
   "id": "800925c3-575f-4768-9acf-1037051b2f33",
   "metadata": {},
   "outputs": [],
   "source": [
    "arr3=np.random.randint(1,10,(3,4))"
   ]
  },
  {
   "cell_type": "code",
   "execution_count": 31,
   "id": "2d2908e2-0e45-450f-ac05-f8671d2e07ce",
   "metadata": {},
   "outputs": [
    {
     "data": {
      "text/plain": [
       "array([[9, 3, 2, 7],\n",
       "       [4, 2, 6, 7],\n",
       "       [9, 2, 4, 6]])"
      ]
     },
     "execution_count": 31,
     "metadata": {},
     "output_type": "execute_result"
    }
   ],
   "source": [
    "arr2"
   ]
  },
  {
   "cell_type": "code",
   "execution_count": 32,
   "id": "5d8da80c-7b92-442a-b147-7dd316a38238",
   "metadata": {},
   "outputs": [
    {
     "data": {
      "text/plain": [
       "array([[2, 3, 9, 9],\n",
       "       [9, 1, 9, 7],\n",
       "       [3, 7, 9, 4]])"
      ]
     },
     "execution_count": 32,
     "metadata": {},
     "output_type": "execute_result"
    }
   ],
   "source": [
    "arr3"
   ]
  },
  {
   "cell_type": "code",
   "execution_count": 33,
   "id": "90f866fc-1079-43df-9086-68e2bd890f07",
   "metadata": {},
   "outputs": [
    {
     "data": {
      "text/plain": [
       "array([[11,  6, 11, 16],\n",
       "       [13,  3, 15, 14],\n",
       "       [12,  9, 13, 10]])"
      ]
     },
     "execution_count": 33,
     "metadata": {},
     "output_type": "execute_result"
    }
   ],
   "source": [
    "arr2+arr3"
   ]
  },
  {
   "cell_type": "code",
   "execution_count": 34,
   "id": "9fe77060-d1dd-4e8a-a281-a963b4a11a55",
   "metadata": {},
   "outputs": [
    {
     "data": {
      "text/plain": [
       "array([[18,  9, 18, 63],\n",
       "       [36,  2, 54, 49],\n",
       "       [27, 14, 36, 24]])"
      ]
     },
     "execution_count": 34,
     "metadata": {},
     "output_type": "execute_result"
    }
   ],
   "source": [
    "arr2*arr3"
   ]
  },
  {
   "cell_type": "code",
   "execution_count": 35,
   "id": "d25d05f0-1615-4f7e-9f10-ed5798da933c",
   "metadata": {},
   "outputs": [
    {
     "data": {
      "text/plain": [
       "array([[4.5       , 1.        , 0.22222222, 0.77777778],\n",
       "       [0.44444444, 2.        , 0.66666667, 1.        ],\n",
       "       [3.        , 0.28571429, 0.44444444, 1.5       ]])"
      ]
     },
     "execution_count": 35,
     "metadata": {},
     "output_type": "execute_result"
    }
   ],
   "source": [
    "arr2/arr3"
   ]
  },
  {
   "cell_type": "code",
   "execution_count": 36,
   "id": "bec34144-dfa2-4cb7-922c-b5656e672909",
   "metadata": {},
   "outputs": [
    {
     "data": {
      "text/plain": [
       "array([[-8, -1,  1, -3],\n",
       "       [-3,  0, -3, -3],\n",
       "       [-8,  0, -1, -2]])"
      ]
     },
     "execution_count": 36,
     "metadata": {},
     "output_type": "execute_result"
    }
   ],
   "source": [
    "arr1-arr2"
   ]
  },
  {
   "cell_type": "code",
   "execution_count": 39,
   "id": "6978bbb8-3c75-42c4-b91a-77f9d3a2e0c5",
   "metadata": {},
   "outputs": [
    {
     "data": {
      "text/plain": [
       "array([[1, 0, 2, 7],\n",
       "       [4, 0, 6, 0],\n",
       "       [0, 2, 4, 2]])"
      ]
     },
     "execution_count": 39,
     "metadata": {},
     "output_type": "execute_result"
    }
   ],
   "source": [
    "arr2%arr3"
   ]
  },
  {
   "cell_type": "code",
   "execution_count": 40,
   "id": "8b1b4392-6cd9-4cc5-b635-abc46885dbcb",
   "metadata": {},
   "outputs": [
    {
     "data": {
      "text/plain": [
       "array([[     1,      8,  19683, 262144],\n",
       "       [     1,      2,  19683,  16384],\n",
       "       [     1,    128,  19683,    256]])"
      ]
     },
     "execution_count": 40,
     "metadata": {},
     "output_type": "execute_result"
    }
   ],
   "source": [
    "arr1**arr3"
   ]
  },
  {
   "cell_type": "code",
   "execution_count": 41,
   "id": "6489bc7a-34cb-4385-bf82-7be5465cf592",
   "metadata": {},
   "outputs": [
    {
     "data": {
      "text/plain": [
       "array([[0, 3, 0, 1],\n",
       "       [0, 0, 0, 7],\n",
       "       [1, 2, 0, 4]])"
      ]
     },
     "execution_count": 41,
     "metadata": {},
     "output_type": "execute_result"
    }
   ],
   "source": [
    "arr2 &arr3  #binary and operation"
   ]
  },
  {
   "cell_type": "code",
   "execution_count": 43,
   "id": "4993a9e1-2e6d-422a-8539-ba5f53f6deb8",
   "metadata": {},
   "outputs": [
    {
     "data": {
      "text/plain": [
       "array([[-10,  -4,  -3,  -8],\n",
       "       [ -5,  -3,  -7,  -8],\n",
       "       [-10,  -3,  -5,  -7]])"
      ]
     },
     "execution_count": 43,
     "metadata": {},
     "output_type": "execute_result"
    }
   ],
   "source": [
    "~arr2"
   ]
  },
  {
   "cell_type": "code",
   "execution_count": 44,
   "id": "c19d1013-de3c-417c-9a46-60404a23e819",
   "metadata": {},
   "outputs": [
    {
     "data": {
      "text/plain": [
       "array([[11,  3, 11, 15],\n",
       "       [13,  3, 15,  7],\n",
       "       [11,  7, 13,  6]])"
      ]
     },
     "execution_count": 44,
     "metadata": {},
     "output_type": "execute_result"
    }
   ],
   "source": [
    "arr2|arr3"
   ]
  },
  {
   "cell_type": "code",
   "execution_count": 45,
   "id": "6f53868b-6017-46b3-b407-5260f8b3881b",
   "metadata": {},
   "outputs": [
    {
     "data": {
      "text/plain": [
       "array([[ True, False, False, False],\n",
       "       [False,  True, False, False],\n",
       "       [ True, False, False,  True]])"
      ]
     },
     "execution_count": 45,
     "metadata": {},
     "output_type": "execute_result"
    }
   ],
   "source": [
    "arr2>arr3"
   ]
  },
  {
   "cell_type": "code",
   "execution_count": 46,
   "id": "90291b55-3224-4b21-aaf3-b4ad3bb25036",
   "metadata": {},
   "outputs": [],
   "source": [
    "#numpy - string function"
   ]
  },
  {
   "cell_type": "code",
   "execution_count": 47,
   "id": "8d619bab-7ce1-4749-b248-976966ee1b0a",
   "metadata": {},
   "outputs": [],
   "source": [
    "arr=np.array(['abishek', 'kumar'])"
   ]
  },
  {
   "cell_type": "code",
   "execution_count": 48,
   "id": "709d8190-d4bb-4ff0-8c0a-9438e0a4c3fd",
   "metadata": {},
   "outputs": [
    {
     "data": {
      "text/plain": [
       "array(['abishek', 'kumar'], dtype='<U7')"
      ]
     },
     "execution_count": 48,
     "metadata": {},
     "output_type": "execute_result"
    }
   ],
   "source": [
    "arr\n"
   ]
  },
  {
   "cell_type": "code",
   "execution_count": 49,
   "id": "73ae2d1e-f156-41a0-878e-7a33dd2ff272",
   "metadata": {},
   "outputs": [
    {
     "data": {
      "text/plain": [
       "array(['ABISHEK', 'KUMAR'], dtype='<U7')"
      ]
     },
     "execution_count": 49,
     "metadata": {},
     "output_type": "execute_result"
    }
   ],
   "source": [
    "np.char.upper(arr)"
   ]
  },
  {
   "cell_type": "code",
   "execution_count": 50,
   "id": "90a3d82c-05d1-4f78-8833-e132fc6ad0d5",
   "metadata": {},
   "outputs": [
    {
     "data": {
      "text/plain": [
       "array(['Abishek', 'Kumar'], dtype='<U7')"
      ]
     },
     "execution_count": 50,
     "metadata": {},
     "output_type": "execute_result"
    }
   ],
   "source": [
    "np.char.title(arr)"
   ]
  },
  {
   "cell_type": "code",
   "execution_count": 51,
   "id": "797a73d8-43d8-4838-9844-e8355618c928",
   "metadata": {},
   "outputs": [
    {
     "data": {
      "text/plain": [
       "array(['Abishek', 'Kumar'], dtype='<U7')"
      ]
     },
     "execution_count": 51,
     "metadata": {},
     "output_type": "execute_result"
    }
   ],
   "source": [
    "np.char.capitalize(arr)"
   ]
  },
  {
   "cell_type": "code",
   "execution_count": 52,
   "id": "2aeff97b-da01-41be-9f9c-e15b7663654c",
   "metadata": {},
   "outputs": [],
   "source": [
    "#numpy mathmarical function."
   ]
  },
  {
   "cell_type": "code",
   "execution_count": 56,
   "id": "a2de85ab-a911-4ebe-9e16-e6149990cad5",
   "metadata": {},
   "outputs": [
    {
     "data": {
      "text/plain": [
       "array([[2, 3, 9, 9],\n",
       "       [9, 1, 9, 7],\n",
       "       [3, 7, 9, 4]])"
      ]
     },
     "execution_count": 56,
     "metadata": {},
     "output_type": "execute_result"
    }
   ],
   "source": [
    "arr3"
   ]
  },
  {
   "cell_type": "code",
   "execution_count": 57,
   "id": "c4c5668a-d99a-4948-bee7-4732c86754a0",
   "metadata": {},
   "outputs": [
    {
     "data": {
      "text/plain": [
       "array([[ 0.90929743,  0.14112001,  0.41211849,  0.41211849],\n",
       "       [ 0.41211849,  0.84147098,  0.41211849,  0.6569866 ],\n",
       "       [ 0.14112001,  0.6569866 ,  0.41211849, -0.7568025 ]])"
      ]
     },
     "execution_count": 57,
     "metadata": {},
     "output_type": "execute_result"
    }
   ],
   "source": [
    "np.sin(arr3)"
   ]
  },
  {
   "cell_type": "code",
   "execution_count": 58,
   "id": "0c8cd13c-51d7-4d87-900f-b3accd71d571",
   "metadata": {},
   "outputs": [
    {
     "data": {
      "text/plain": [
       "array([[-0.41614684, -0.9899925 , -0.91113026, -0.91113026],\n",
       "       [-0.91113026,  0.54030231, -0.91113026,  0.75390225],\n",
       "       [-0.9899925 ,  0.75390225, -0.91113026, -0.65364362]])"
      ]
     },
     "execution_count": 58,
     "metadata": {},
     "output_type": "execute_result"
    }
   ],
   "source": [
    "np.cos(arr3)"
   ]
  },
  {
   "cell_type": "code",
   "execution_count": 59,
   "id": "072d7a1d-adae-4009-8dad-817df08e881e",
   "metadata": {},
   "outputs": [
    {
     "data": {
      "text/plain": [
       "array([[-2.18503986, -0.14254654, -0.45231566, -0.45231566],\n",
       "       [-0.45231566,  1.55740772, -0.45231566,  0.87144798],\n",
       "       [-0.14254654,  0.87144798, -0.45231566,  1.15782128]])"
      ]
     },
     "execution_count": 59,
     "metadata": {},
     "output_type": "execute_result"
    }
   ],
   "source": [
    "np.tan(arr3)"
   ]
  },
  {
   "cell_type": "code",
   "execution_count": 60,
   "id": "bdb17f80-bd6c-470c-93a5-1a5398664dd2",
   "metadata": {},
   "outputs": [
    {
     "data": {
      "text/plain": [
       "array([[0.30103   , 0.47712125, 0.95424251, 0.95424251],\n",
       "       [0.95424251, 0.        , 0.95424251, 0.84509804],\n",
       "       [0.47712125, 0.84509804, 0.95424251, 0.60205999]])"
      ]
     },
     "execution_count": 60,
     "metadata": {},
     "output_type": "execute_result"
    }
   ],
   "source": [
    "np.log10(arr3)"
   ]
  },
  {
   "cell_type": "code",
   "execution_count": 61,
   "id": "646f785e-3d47-489e-8ddb-ff1dd556f532",
   "metadata": {},
   "outputs": [
    {
     "data": {
      "text/plain": [
       "array([[7.38905610e+00, 2.00855369e+01, 8.10308393e+03, 8.10308393e+03],\n",
       "       [8.10308393e+03, 2.71828183e+00, 8.10308393e+03, 1.09663316e+03],\n",
       "       [2.00855369e+01, 1.09663316e+03, 8.10308393e+03, 5.45981500e+01]])"
      ]
     },
     "execution_count": 61,
     "metadata": {},
     "output_type": "execute_result"
    }
   ],
   "source": [
    "np.exp(arr3)"
   ]
  },
  {
   "cell_type": "code",
   "execution_count": 62,
   "id": "89eed5f2-024d-4ef9-bd8e-6f7efa9520cb",
   "metadata": {},
   "outputs": [
    {
     "data": {
      "text/plain": [
       "array([[ 4,  9, 81, 81],\n",
       "       [81,  1, 81, 49],\n",
       "       [ 9, 49, 81, 16]])"
      ]
     },
     "execution_count": 62,
     "metadata": {},
     "output_type": "execute_result"
    }
   ],
   "source": [
    "np.power(arr3,2)"
   ]
  },
  {
   "cell_type": "code",
   "execution_count": 63,
   "id": "cfbe2b39-adea-4943-a90c-73d735c66813",
   "metadata": {},
   "outputs": [
    {
     "data": {
      "text/plain": [
       "array([[2, 3, 9, 9],\n",
       "       [9, 1, 9, 7],\n",
       "       [3, 7, 9, 4]])"
      ]
     },
     "execution_count": 63,
     "metadata": {},
     "output_type": "execute_result"
    }
   ],
   "source": [
    "arr3"
   ]
  },
  {
   "cell_type": "code",
   "execution_count": 64,
   "id": "5c5e5fbc-b942-48d2-ba8a-daf6c2229815",
   "metadata": {},
   "outputs": [
    {
     "data": {
      "text/plain": [
       "6.0"
      ]
     },
     "execution_count": 64,
     "metadata": {},
     "output_type": "execute_result"
    }
   ],
   "source": [
    "np.mean(arr3)"
   ]
  },
  {
   "cell_type": "code",
   "execution_count": 66,
   "id": "c72ead80-c624-4d6b-96f0-68f62f5e9a11",
   "metadata": {},
   "outputs": [
    {
     "data": {
      "text/plain": [
       "7.0"
      ]
     },
     "execution_count": 66,
     "metadata": {},
     "output_type": "execute_result"
    }
   ],
   "source": [
    "np.median(arr3)"
   ]
  },
  {
   "cell_type": "code",
   "execution_count": 67,
   "id": "56b4cabc-9739-46e3-b2f9-b60f62510c33",
   "metadata": {},
   "outputs": [
    {
     "data": {
      "text/plain": [
       "3.0276503540974917"
      ]
     },
     "execution_count": 67,
     "metadata": {},
     "output_type": "execute_result"
    }
   ],
   "source": [
    "np.std(arr3)"
   ]
  },
  {
   "cell_type": "code",
   "execution_count": 68,
   "id": "51c1890f-e6cc-42a6-8251-4fb6987ff6b8",
   "metadata": {},
   "outputs": [
    {
     "data": {
      "text/plain": [
       "9.166666666666666"
      ]
     },
     "execution_count": 68,
     "metadata": {},
     "output_type": "execute_result"
    }
   ],
   "source": [
    "np.var(arr3)"
   ]
  },
  {
   "cell_type": "code",
   "execution_count": 69,
   "id": "220f5c22-eadc-486e-b984-4f3bd9c3c77b",
   "metadata": {},
   "outputs": [
    {
     "data": {
      "text/plain": [
       "1"
      ]
     },
     "execution_count": 69,
     "metadata": {},
     "output_type": "execute_result"
    }
   ],
   "source": [
    "np.min(arr3)"
   ]
  },
  {
   "cell_type": "code",
   "execution_count": 70,
   "id": "5721fe2e-a4b2-41f5-bcaf-5325efdcbe9c",
   "metadata": {},
   "outputs": [
    {
     "data": {
      "text/plain": [
       "9"
      ]
     },
     "execution_count": 70,
     "metadata": {},
     "output_type": "execute_result"
    }
   ],
   "source": [
    "np.max(arr3)"
   ]
  },
  {
   "cell_type": "code",
   "execution_count": null,
   "id": "aacbea9e-d21f-414f-8aec-e2dedd592bd2",
   "metadata": {},
   "outputs": [],
   "source": []
  }
 ],
 "metadata": {
  "kernelspec": {
   "display_name": "Python 3 (ipykernel)",
   "language": "python",
   "name": "python3"
  },
  "language_info": {
   "codemirror_mode": {
    "name": "ipython",
    "version": 3
   },
   "file_extension": ".py",
   "mimetype": "text/x-python",
   "name": "python",
   "nbconvert_exporter": "python",
   "pygments_lexer": "ipython3",
   "version": "3.10.8"
  }
 },
 "nbformat": 4,
 "nbformat_minor": 5
}
